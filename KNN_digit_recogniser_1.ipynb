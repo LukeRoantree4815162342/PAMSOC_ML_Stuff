{
 "cells": [
  {
   "cell_type": "code",
   "execution_count": 52,
   "metadata": {},
   "outputs": [],
   "source": [
    "from matplotlib import pyplot as plt\n",
    "\n",
    "from sklearn import datasets,metrics\n",
    "\n",
    "from sklearn.neighbors import KNeighborsClassifier\n",
    "\n",
    "from keras.datasets import mnist\n",
    "\n",
    "from seaborn import heatmap"
   ]
  },
  {
   "cell_type": "code",
   "execution_count": 41,
   "metadata": {},
   "outputs": [
    {
     "name": "stdout",
     "output_type": "stream",
     "text": [
      "(60000, 28, 28)\n"
     ]
    },
    {
     "data": {
      "image/png": "[encoded data removed]",
      "text/plain": [
       "<Figure size 432x288 with 1 Axes>"
      ]
     },
     "metadata": {},
     "output_type": "display_data"
    }
   ],
   "source": [
    "#visualise the data in the MNIST dataset\n",
    "\n",
    "(X_data, Y_data),(X_val,Y_val) = mnist.load_data()\n",
    "\n",
    "print(X_data.shape)\n",
    "\n",
    "plt.imshow(X_data[1])\n",
    "\n",
    "plt.show()\n",
    "\n"
   ]
  },
  {
   "cell_type": "code",
   "execution_count": 42,
   "metadata": {},
   "outputs": [
    {
     "name": "stdout",
     "output_type": "stream",
     "text": [
      "[ 0.  0.  0. 12. 13.  5.  0.  0.  0.  0.  0. 11. 16.  9.  0.  0.  0.  0.\n",
      "  3. 15. 16.  6.  0.  0.  0.  7. 15. 16. 16.  2.  0.  0.  0.  0.  1. 16.\n",
      " 16.  3.  0.  0.  0.  0.  1. 16. 16.  6.  0.  0.  0.  0.  1. 16. 16.  6.\n",
      "  0.  0.  0.  0.  0. 11. 16. 10.  0.  0.]\n"
     ]
    }
   ],
   "source": [
    "#load data for the KNN\n",
    "\n",
    "digits = datasets.load_digits()\n",
    "\n",
    "#print the digits data at the same point\n",
    "\n",
    "print(digits.data[1])\n",
    "\n",
    "#dataset is the numerical representation of the images in MNIST\n",
    "\n"
   ]
  },
  {
   "cell_type": "code",
   "execution_count": 43,
   "metadata": {},
   "outputs": [],
   "source": [
    "#because the digits is such a large dataset we are going to make it smaller\n",
    "\n",
    "training_volume = 1200\n",
    "\n",
    "test_volume= 300"
   ]
  },
  {
   "cell_type": "code",
   "execution_count": 44,
   "metadata": {},
   "outputs": [
    {
     "name": "stdout",
     "output_type": "stream",
     "text": [
      "(array([[ 0.,  0.,  0.,  8., 14., 14.,  2.,  0.],\n",
      "       [ 0.,  0.,  0.,  6., 10., 15., 11.,  0.],\n",
      "       [ 0.,  0.,  0.,  0.,  0., 14., 10.,  0.],\n",
      "       [ 0.,  2.,  8., 11., 12., 16.,  8.,  0.],\n",
      "       [ 0.,  8., 16., 16., 16., 16.,  7.,  0.],\n",
      "       [ 0.,  0.,  0.,  0., 11., 15.,  1.,  0.],\n",
      "       [ 0.,  0.,  0.,  9., 16.,  7.,  0.,  0.],\n",
      "       [ 0.,  0.,  0., 12., 13.,  1.,  0.,  0.]]), 7)\n"
     ]
    },
    {
     "data": {
      "image/png": "[encoded data removed]",
      "text/plain": [
       "<Figure size 432x288 with 8 Axes>"
      ]
     },
     "metadata": {},
     "output_type": "display_data"
    }
   ],
   "source": [
    "#lets zip together the digits and the labels\n",
    "\n",
    "images_and_labels = list(zip(digits.images,digits.target))\n",
    "\n",
    "print(images_and_labels[27])\n",
    "\n",
    "for index, (image,label) in enumerate(images_and_labels[:8]):\n",
    "\n",
    "  plt.subplot(2,4,index+1)\n",
    "\n",
    "  plt.axis('off')\n",
    "\n",
    "  plt.tight_layout()\n",
    "\n",
    "  plt.imshow(image,cmap=plt.cm.gray_r)\n",
    "\n",
    "  plt.title('Training: %i' %label)"
   ]
  },
  {
   "cell_type": "code",
   "execution_count": 45,
   "metadata": {},
   "outputs": [
    {
     "name": "stdout",
     "output_type": "stream",
     "text": [
      "(1797, 8, 8)\n"
     ]
    }
   ],
   "source": [
    "import numpy as np\n",
    "print(digits.images.shape)\n",
    "n_samples = len(digits.images)\n",
    "data = digits.images.reshape((n_samples,-1))\n"
   ]
  },
  {
   "cell_type": "code",
   "execution_count": 49,
   "metadata": {},
   "outputs": [
    {
     "data": {
      "text/plain": [
       "KNeighborsClassifier(algorithm='kd_tree', leaf_size=30, metric='minkowski',\n",
       "           metric_params=None, n_jobs=-1, n_neighbors=1, p=2,\n",
       "           weights='distance')"
      ]
     },
     "execution_count": 49,
     "metadata": {},
     "output_type": "execute_result"
    }
   ],
   "source": [
    "classifier = KNeighborsClassifier(algorithm='kd_tree', metric='minkowski',n_neighbors=1, p=2, n_jobs=-1,weights='distance')\n",
    "classifier.fit(data[:training_volume], digits.target[:training_volume])\n"
   ]
  },
  {
   "cell_type": "code",
   "execution_count": 50,
   "metadata": {},
   "outputs": [
    {
     "name": "stdout",
     "output_type": "stream",
     "text": [
      "0.964824120603015\n"
     ]
    }
   ],
   "source": [
    "expected = digits.target[training_volume:]\n",
    "predicted = classifier.predict(data[training_volume:])\n",
    "correct = lambda x: predicted[x] == expected[x]\n",
    "np.vectorize(correct)\n",
    "score = np.sum(correct(range(len(predicted))))/len(predicted)\n",
    "print(score)"
   ]
  },
  {
   "cell_type": "code",
   "execution_count": 56,
   "metadata": {},
   "outputs": [
    {
     "name": "stdout",
     "output_type": "stream",
     "text": [
      "Accuracy:\n",
      "0.964824120603015\n",
      "Classification report for classifier KNeighborsClassifier(algorithm='kd_tree', leaf_size=30, metric='minkowski',\n",
      "           metric_params=None, n_jobs=-1, n_neighbors=1, p=2,\n",
      "           weights='distance'):\n",
      "             precision    recall  f1-score   support\n",
      "\n",
      "          0       0.98      0.98      0.98        59\n",
      "          1       0.92      1.00      0.96        61\n",
      "          2       1.00      0.98      0.99        60\n",
      "          3       0.98      0.90      0.94        62\n",
      "          4       0.98      0.95      0.97        61\n",
      "          5       0.94      0.98      0.96        59\n",
      "          6       0.98      1.00      0.99        61\n",
      "          7       0.98      1.00      0.99        61\n",
      "          8       0.96      0.89      0.92        55\n",
      "          9       0.92      0.95      0.93        58\n",
      "\n",
      "avg / total       0.97      0.96      0.96       597\n",
      "\n",
      "\n",
      "Confusion matrix:\n",
      "\n"
     ]
    },
    {
     "data": {
      "text/plain": [
       "<matplotlib.axes._subplots.AxesSubplot at 0x7efd70a37748>"
      ]
     },
     "execution_count": 56,
     "metadata": {},
     "output_type": "execute_result"
    },
    {
     "data": {
      "image/png": "[encoded data removed]",
      "text/plain": [
       "<Figure size 432x288 with 2 Axes>"
      ]
     },
     "metadata": {},
     "output_type": "display_data"
    }
   ],
   "source": [
    "print(\"Accuracy:\\n%s\" % metrics.accuracy_score(expected, predicted))\n",
    "print(\"Classification report for classifier %s:\\n%s\\n\"\n",
    "      % (classifier, metrics.classification_report(expected, predicted)))\n",
    "print(\"Confusion matrix:\\n\")\n",
    "heatmap(metrics.confusion_matrix(expected,predicted))"
   ]
  },
  {
   "cell_type": "code",
   "execution_count": null,
   "metadata": {},
   "outputs": [],
   "source": []
  },
  {
   "cell_type": "code",
   "execution_count": null,
   "metadata": {},
   "outputs": [],
   "source": []
  }
 ],
 "metadata": {
  "kernelspec": {
   "display_name": "Python 3",
   "language": "python",
   "name": "python3"
  },
  "language_info": {
   "codemirror_mode": {
    "name": "ipython",
    "version": 3
   },
   "file_extension": ".py",
   "mimetype": "text/x-python",
   "name": "python",
   "nbconvert_exporter": "python",
   "pygments_lexer": "ipython3",
   "version": "3.6.5"
  }
 },
 "nbformat": 4,
 "nbformat_minor": 2
}
